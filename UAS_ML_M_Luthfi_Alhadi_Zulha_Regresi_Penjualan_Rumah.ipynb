{
  "nbformat": 4,
  "nbformat_minor": 0,
  "metadata": {
    "colab": {
      "name": "UAS ML - M. Luthfi Alhadi Zulha - Regresi Penjualan Rumah.ipynb",
      "provenance": [],
      "collapsed_sections": []
    },
    "kernelspec": {
      "name": "python3",
      "display_name": "Python 3"
    }
  },
  "cells": [
    {
      "cell_type": "markdown",
      "metadata": {
        "id": "MMldoxz-YIbk"
      },
      "source": [
        "# <h1 id=\"juduluas\">UAS Kecerdasan Buatan - Machine Learning</h1>\r\n",
        "# <h2 id=\"nama\">Nama    : M. Luthfi Alhadi Zulha</h2>\r\n",
        "# <h2 id=\"cond\">NIM/NoBP: 1611512018</h2>\r\n"
      ]
    },
    {
      "cell_type": "markdown",
      "metadata": {
        "id": "N4chmRV1QaSv"
      },
      "source": [
        "Penjelasan tentang dataset :\r\n",
        "> *This dataset contains house sale prices for King County, which includes Seattle. It includes homes sold between May 2014 and May 2015.*\r\n",
        "\r\n",
        "\r\n",
        "\r\n",
        "\r\n",
        "Tahapan yang dilakukan untuk melakukan regresi linear pada dataset [Penjualan rumah di King County](https://www.kaggle.com/harlfoxem/housesalesprediction) adalah sebagai berikut :\r\n",
        "1. Load library python\r\n",
        "2. Load dataset\r\n",
        "3. Sneak peak data (cek dan ricek data)\r\n",
        "4. Handling missing values (cek data yang kosong)\r\n",
        "5. Exploratory Data Analysis (EDA)\r\n",
        "6. Modelling\r\n",
        "7. Prediction"
      ]
    },
    {
      "cell_type": "code",
      "metadata": {
        "id": "7WqQapiRP3mn"
      },
      "source": [
        "import numpy as np\r\n",
        "import pandas as pd\r\n",
        "import seaborn as sns\r\n",
        "from sklearn.linear_model import LinearRegression\r\n",
        "from sklearn.model_selection import train_test_split\r\n",
        "import matplotlib.pyplot as plt"
      ],
      "execution_count": 1,
      "outputs": []
    },
    {
      "cell_type": "markdown",
      "metadata": {
        "id": "yBadfLc0Q04m"
      },
      "source": [
        "Library *numpy* adalah library yang berguna untuk mengolah data dalam bentuk matriks atau *array* dalam jumlah yang besar.\r\n",
        "\r\n",
        "Library *pandas* adalah library yang berguna untuk melakukan analisis dan manipulasi data.\r\n",
        "\r\n",
        "Library *seaborn* adalah library yang berguna untuk menampilkan grafik statistik dan terintegrasi dengan library *pandas*.\r\n",
        "\r\n",
        "Library *sklearn.linear_model* (Scikit-Learn) adalah library yang berguna untuk menjalankan model machine learning. Pada library ini, digunakan jenis model regresi linear (*LinearRegression*). Library ini membutuhkan library *numpy* untuk bisa berjalan.\r\n",
        "\r\n",
        "Library *sklearn.model_selection* adalah library untuk menjalankan model machine learning.\r\n",
        "\r\n",
        "Library *matplotlib.pyplot* adalah library yang berguna untuk menampilkan plot grafik matematis seperti matlab pada python."
      ]
    },
    {
      "cell_type": "markdown",
      "metadata": {
        "id": "eCNnktELeiSL"
      },
      "source": [
        "Selanjutnya, dilakukan input data menggunakan library panda dari dataset *kc_house_data.csv* yang sebelumnya telah diupload pada menu file di sebelah kiri, kemudian disimpan dalam variabel \"df\".\r\n",
        "\r\n",
        "Selanjutnya dilakukan pengecekan 5 data teratas yang telah dimasukkan dengan fungsi head().\r\n"
      ]
    },
    {
      "cell_type": "code",
      "metadata": {
        "colab": {
          "base_uri": "https://localhost:8080/",
          "height": 221
        },
        "id": "Kz3V6x6ZWHaH",
        "outputId": "6894e21b-d833-4919-e250-ae0802e0bea0"
      },
      "source": [
        "df = pd.read_csv('kc_house_data.csv', usecols=['price','bedrooms','bathrooms','sqft_living','sqft_lot','floors'])\r\n",
        "\r\n",
        "df.head()"
      ],
      "execution_count": null,
      "outputs": [
        {
          "output_type": "stream",
          "text": [
            "Drive already mounted at /content/drive/; to attempt to forcibly remount, call drive.mount(\"/content/drive/\", force_remount=True).\n"
          ],
          "name": "stdout"
        },
        {
          "output_type": "execute_result",
          "data": {
            "text/html": [
              "<div>\n",
              "<style scoped>\n",
              "    .dataframe tbody tr th:only-of-type {\n",
              "        vertical-align: middle;\n",
              "    }\n",
              "\n",
              "    .dataframe tbody tr th {\n",
              "        vertical-align: top;\n",
              "    }\n",
              "\n",
              "    .dataframe thead th {\n",
              "        text-align: right;\n",
              "    }\n",
              "</style>\n",
              "<table border=\"1\" class=\"dataframe\">\n",
              "  <thead>\n",
              "    <tr style=\"text-align: right;\">\n",
              "      <th></th>\n",
              "      <th>price</th>\n",
              "      <th>bedrooms</th>\n",
              "      <th>bathrooms</th>\n",
              "      <th>sqft_living</th>\n",
              "      <th>sqft_lot</th>\n",
              "      <th>floors</th>\n",
              "    </tr>\n",
              "  </thead>\n",
              "  <tbody>\n",
              "    <tr>\n",
              "      <th>0</th>\n",
              "      <td>221900.0</td>\n",
              "      <td>3</td>\n",
              "      <td>1.00</td>\n",
              "      <td>1180</td>\n",
              "      <td>5650</td>\n",
              "      <td>1.0</td>\n",
              "    </tr>\n",
              "    <tr>\n",
              "      <th>1</th>\n",
              "      <td>538000.0</td>\n",
              "      <td>3</td>\n",
              "      <td>2.25</td>\n",
              "      <td>2570</td>\n",
              "      <td>7242</td>\n",
              "      <td>2.0</td>\n",
              "    </tr>\n",
              "    <tr>\n",
              "      <th>2</th>\n",
              "      <td>180000.0</td>\n",
              "      <td>2</td>\n",
              "      <td>1.00</td>\n",
              "      <td>770</td>\n",
              "      <td>10000</td>\n",
              "      <td>1.0</td>\n",
              "    </tr>\n",
              "    <tr>\n",
              "      <th>3</th>\n",
              "      <td>604000.0</td>\n",
              "      <td>4</td>\n",
              "      <td>3.00</td>\n",
              "      <td>1960</td>\n",
              "      <td>5000</td>\n",
              "      <td>1.0</td>\n",
              "    </tr>\n",
              "    <tr>\n",
              "      <th>4</th>\n",
              "      <td>510000.0</td>\n",
              "      <td>3</td>\n",
              "      <td>2.00</td>\n",
              "      <td>1680</td>\n",
              "      <td>8080</td>\n",
              "      <td>1.0</td>\n",
              "    </tr>\n",
              "  </tbody>\n",
              "</table>\n",
              "</div>"
            ],
            "text/plain": [
              "      price  bedrooms  bathrooms  sqft_living  sqft_lot  floors\n",
              "0  221900.0         3       1.00         1180      5650     1.0\n",
              "1  538000.0         3       2.25         2570      7242     2.0\n",
              "2  180000.0         2       1.00          770     10000     1.0\n",
              "3  604000.0         4       3.00         1960      5000     1.0\n",
              "4  510000.0         3       2.00         1680      8080     1.0"
            ]
          },
          "metadata": {
            "tags": []
          },
          "execution_count": 7
        }
      ]
    },
    {
      "cell_type": "markdown",
      "metadata": {
        "id": "unjTYejna1Ux"
      },
      "source": [
        "\r\n",
        "Features yang digunakan adalah harga dalam USD (**prices**), banyaknya kamar tidur (**bedrooms**), banyaknya kamar mandi (**bathrooms**), luas bangunan dalam ft^2 (**sqft_living**), luas tanah (**sqft_lot**), dan jumlah lantai (**floors**).\r\n",
        "\r\n",
        "Independent variabel nya adalah *bedrooms, bathrooms, sqft_living, sqft_lot, floors*. Sedangkan dependent variabel nya adalah *price*.\r\n"
      ]
    },
    {
      "cell_type": "markdown",
      "metadata": {
        "id": "6We_ign8eugy"
      },
      "source": [
        "Untuk melihat karakteristik dari features/column yang diinputkan, maka menggunakan perintah info()."
      ]
    },
    {
      "cell_type": "code",
      "metadata": {
        "colab": {
          "base_uri": "https://localhost:8080/"
        },
        "id": "Ht0H8TK3eFVz",
        "outputId": "a9fe6e2c-1325-4d07-e469-07035315b915"
      },
      "source": [
        "df.info()"
      ],
      "execution_count": null,
      "outputs": [
        {
          "output_type": "stream",
          "text": [
            "<class 'pandas.core.frame.DataFrame'>\n",
            "RangeIndex: 21613 entries, 0 to 21612\n",
            "Data columns (total 6 columns):\n",
            " #   Column       Non-Null Count  Dtype  \n",
            "---  ------       --------------  -----  \n",
            " 0   price        21613 non-null  float64\n",
            " 1   bedrooms     21613 non-null  int64  \n",
            " 2   bathrooms    21613 non-null  float64\n",
            " 3   sqft_living  21613 non-null  int64  \n",
            " 4   sqft_lot     21613 non-null  int64  \n",
            " 5   floors       21613 non-null  float64\n",
            "dtypes: float64(3), int64(3)\n",
            "memory usage: 1013.2 KB\n"
          ],
          "name": "stdout"
        }
      ]
    },
    {
      "cell_type": "markdown",
      "metadata": {
        "id": "EBY8NE1le4y6"
      },
      "source": [
        "Pada dataset di atas, terdapat 21613 baris data dan 6 kolom.\r\n",
        "\r\n",
        "Pada hasil di atas, dapat dilihat bahwa column bathrooms dan floors memiliki tipe data float 64 bit. Tidak mungkin ada 2.5 kamar mandi di rumah atau terdapat 0.5 lantai di rumah.\r\n",
        "Sehingga tipe datanya harus diganti menjadi integer."
      ]
    },
    {
      "cell_type": "code",
      "metadata": {
        "id": "aeMlSfLldj9F"
      },
      "source": [
        "df['bathrooms'] = df['bathrooms'].astype('int')\r\n",
        "df['floors'] = df['floors'].astype('int')"
      ],
      "execution_count": null,
      "outputs": []
    },
    {
      "cell_type": "markdown",
      "metadata": {
        "id": "xpLcwpLxfUs_"
      },
      "source": [
        "Selanjutnya dapat melihat karakteristik data dalam bentuk statistik menggunakan perintah describe()."
      ]
    },
    {
      "cell_type": "code",
      "metadata": {
        "colab": {
          "base_uri": "https://localhost:8080/",
          "height": 300
        },
        "id": "xpG0DHRTfjof",
        "outputId": "c8e48074-ab1b-43a1-e2fc-89aec5ce5adc"
      },
      "source": [
        "df.describe()"
      ],
      "execution_count": null,
      "outputs": [
        {
          "output_type": "execute_result",
          "data": {
            "text/html": [
              "<div>\n",
              "<style scoped>\n",
              "    .dataframe tbody tr th:only-of-type {\n",
              "        vertical-align: middle;\n",
              "    }\n",
              "\n",
              "    .dataframe tbody tr th {\n",
              "        vertical-align: top;\n",
              "    }\n",
              "\n",
              "    .dataframe thead th {\n",
              "        text-align: right;\n",
              "    }\n",
              "</style>\n",
              "<table border=\"1\" class=\"dataframe\">\n",
              "  <thead>\n",
              "    <tr style=\"text-align: right;\">\n",
              "      <th></th>\n",
              "      <th>price</th>\n",
              "      <th>bedrooms</th>\n",
              "      <th>bathrooms</th>\n",
              "      <th>sqft_living</th>\n",
              "      <th>sqft_lot</th>\n",
              "      <th>floors</th>\n",
              "    </tr>\n",
              "  </thead>\n",
              "  <tbody>\n",
              "    <tr>\n",
              "      <th>count</th>\n",
              "      <td>2.161300e+04</td>\n",
              "      <td>21613.000000</td>\n",
              "      <td>21613.000000</td>\n",
              "      <td>21613.000000</td>\n",
              "      <td>2.161300e+04</td>\n",
              "      <td>21613.000000</td>\n",
              "    </tr>\n",
              "    <tr>\n",
              "      <th>mean</th>\n",
              "      <td>5.400881e+05</td>\n",
              "      <td>3.370842</td>\n",
              "      <td>1.749734</td>\n",
              "      <td>2079.899736</td>\n",
              "      <td>1.510697e+04</td>\n",
              "      <td>1.446213</td>\n",
              "    </tr>\n",
              "    <tr>\n",
              "      <th>std</th>\n",
              "      <td>3.671272e+05</td>\n",
              "      <td>0.930062</td>\n",
              "      <td>0.734873</td>\n",
              "      <td>918.440897</td>\n",
              "      <td>4.142051e+04</td>\n",
              "      <td>0.551894</td>\n",
              "    </tr>\n",
              "    <tr>\n",
              "      <th>min</th>\n",
              "      <td>7.500000e+04</td>\n",
              "      <td>0.000000</td>\n",
              "      <td>0.000000</td>\n",
              "      <td>290.000000</td>\n",
              "      <td>5.200000e+02</td>\n",
              "      <td>1.000000</td>\n",
              "    </tr>\n",
              "    <tr>\n",
              "      <th>25%</th>\n",
              "      <td>3.219500e+05</td>\n",
              "      <td>3.000000</td>\n",
              "      <td>1.000000</td>\n",
              "      <td>1427.000000</td>\n",
              "      <td>5.040000e+03</td>\n",
              "      <td>1.000000</td>\n",
              "    </tr>\n",
              "    <tr>\n",
              "      <th>50%</th>\n",
              "      <td>4.500000e+05</td>\n",
              "      <td>3.000000</td>\n",
              "      <td>2.000000</td>\n",
              "      <td>1910.000000</td>\n",
              "      <td>7.618000e+03</td>\n",
              "      <td>1.000000</td>\n",
              "    </tr>\n",
              "    <tr>\n",
              "      <th>75%</th>\n",
              "      <td>6.450000e+05</td>\n",
              "      <td>4.000000</td>\n",
              "      <td>2.000000</td>\n",
              "      <td>2550.000000</td>\n",
              "      <td>1.068800e+04</td>\n",
              "      <td>2.000000</td>\n",
              "    </tr>\n",
              "    <tr>\n",
              "      <th>max</th>\n",
              "      <td>7.700000e+06</td>\n",
              "      <td>33.000000</td>\n",
              "      <td>8.000000</td>\n",
              "      <td>13540.000000</td>\n",
              "      <td>1.651359e+06</td>\n",
              "      <td>3.000000</td>\n",
              "    </tr>\n",
              "  </tbody>\n",
              "</table>\n",
              "</div>"
            ],
            "text/plain": [
              "              price      bedrooms  ...      sqft_lot        floors\n",
              "count  2.161300e+04  21613.000000  ...  2.161300e+04  21613.000000\n",
              "mean   5.400881e+05      3.370842  ...  1.510697e+04      1.446213\n",
              "std    3.671272e+05      0.930062  ...  4.142051e+04      0.551894\n",
              "min    7.500000e+04      0.000000  ...  5.200000e+02      1.000000\n",
              "25%    3.219500e+05      3.000000  ...  5.040000e+03      1.000000\n",
              "50%    4.500000e+05      3.000000  ...  7.618000e+03      1.000000\n",
              "75%    6.450000e+05      4.000000  ...  1.068800e+04      2.000000\n",
              "max    7.700000e+06     33.000000  ...  1.651359e+06      3.000000\n",
              "\n",
              "[8 rows x 6 columns]"
            ]
          },
          "metadata": {
            "tags": []
          },
          "execution_count": 31
        }
      ]
    },
    {
      "cell_type": "markdown",
      "metadata": {
        "id": "u0mep7Z5f0bU"
      },
      "source": [
        "Pada column bedrooms, terdapat 1-11 kamar lalu ada nilai 33 kamar pada baris max. Nilai 33 ini dapat diganti menjadi 11."
      ]
    },
    {
      "cell_type": "code",
      "metadata": {
        "id": "tec1tTtTd5Sj"
      },
      "source": [
        "df['bedrooms'] = df['bedrooms'].replace(33,11)"
      ],
      "execution_count": null,
      "outputs": []
    },
    {
      "cell_type": "markdown",
      "metadata": {
        "id": "GOIxMECrhf9v"
      },
      "source": [
        "Kemudian dilakukan pengecekan data yang kosong (null) pada setiap features dengan menggunakan perintah *isnull()* kemudian dijumlahkan dengan perintah *sum()*."
      ]
    },
    {
      "cell_type": "code",
      "metadata": {
        "colab": {
          "base_uri": "https://localhost:8080/"
        },
        "id": "8hrs9ncvh280",
        "outputId": "1f278f2b-68c3-4ec3-ceb0-b86429ed63b0"
      },
      "source": [
        "df.isnull().sum()"
      ],
      "execution_count": null,
      "outputs": [
        {
          "output_type": "execute_result",
          "data": {
            "text/plain": [
              "price          0\n",
              "bedrooms       0\n",
              "bathrooms      0\n",
              "sqft_living    0\n",
              "sqft_lot       0\n",
              "floors         0\n",
              "dtype: int64"
            ]
          },
          "metadata": {
            "tags": []
          },
          "execution_count": 38
        }
      ]
    },
    {
      "cell_type": "markdown",
      "metadata": {
        "id": "38xtQ9_Ch4mw"
      },
      "source": [
        "Ternyata sudah tidak ada data yang kosong. \r\n",
        "Lalu dapat dilanjutkan dengan menampilkan grafik persebaran data features terhadap harga menggunakan fungsi *sns.pairplot(data, x_vars, y_vars, parameters)*"
      ]
    },
    {
      "cell_type": "code",
      "metadata": {
        "colab": {
          "base_uri": "https://localhost:8080/",
          "height": 254
        },
        "id": "KnjWYcs4ijH5",
        "outputId": "01042b4c-db6a-4643-8c90-5c5b0ac75272"
      },
      "source": [
        "plt.figure(figsize=(10,9))\r\n",
        "sns.pairplot(data=df, x_vars=['bedrooms','bathrooms', 'sqft_living', 'sqft_lot', 'floors'], y_vars=['price'], height=5, aspect=1.25, diag_kind=None)"
      ],
      "execution_count": null,
      "outputs": [
        {
          "output_type": "execute_result",
          "data": {
            "text/plain": [
              "<seaborn.axisgrid.PairGrid at 0x7fa14586ef60>"
            ]
          },
          "metadata": {
            "tags": []
          },
          "execution_count": 64
        },
        {
          "output_type": "display_data",
          "data": {
            "text/plain": [
              "<Figure size 720x648 with 0 Axes>"
            ]
          },
          "metadata": {
            "tags": []
          }
        },
        {
          "output_type": "display_data",
          "data": {
            "image/png": "[encoded data removed]",
            "text/plain": [
              "<Figure size 2250x360 with 5 Axes>"
            ]
          },
          "metadata": {
            "tags": [],
            "needs_background": "light"
          }
        }
      ]
    },
    {
      "cell_type": "markdown",
      "metadata": {
        "id": "7KqTOjR3pUnU"
      },
      "source": [
        "Selanjutnya, untuk mengetahui nilai korelasi dari setiap features terhadap harga, dapat dilakukan dengan pembuatan tabel korelasi menggunakan perintah *corr()*."
      ]
    },
    {
      "cell_type": "code",
      "metadata": {
        "colab": {
          "base_uri": "https://localhost:8080/",
          "height": 169
        },
        "id": "k23icR7dotVC",
        "outputId": "3d8cef7e-cf13-4f4d-a647-bd29c92d2a03"
      },
      "source": [
        "df.corr().style.background_gradient().set_precision(4)"
      ],
      "execution_count": null,
      "outputs": [
        {
          "output_type": "execute_result",
          "data": {
            "text/html": [
              "<style  type=\"text/css\" >\n",
              "#T_dd40b344_3eb4_11eb_b4d7_0242ac1c0002row0_col0,#T_dd40b344_3eb4_11eb_b4d7_0242ac1c0002row1_col1,#T_dd40b344_3eb4_11eb_b4d7_0242ac1c0002row2_col2,#T_dd40b344_3eb4_11eb_b4d7_0242ac1c0002row3_col3,#T_dd40b344_3eb4_11eb_b4d7_0242ac1c0002row4_col4,#T_dd40b344_3eb4_11eb_b4d7_0242ac1c0002row5_col5{\n",
              "            background-color:  #023858;\n",
              "            color:  #f1f1f1;\n",
              "        }#T_dd40b344_3eb4_11eb_b4d7_0242ac1c0002row0_col1{\n",
              "            background-color:  #c2cbe2;\n",
              "            color:  #000000;\n",
              "        }#T_dd40b344_3eb4_11eb_b4d7_0242ac1c0002row0_col2,#T_dd40b344_3eb4_11eb_b4d7_0242ac1c0002row2_col0,#T_dd40b344_3eb4_11eb_b4d7_0242ac1c0002row2_col1{\n",
              "            background-color:  #83afd3;\n",
              "            color:  #000000;\n",
              "        }#T_dd40b344_3eb4_11eb_b4d7_0242ac1c0002row0_col3{\n",
              "            background-color:  #308cbe;\n",
              "            color:  #000000;\n",
              "        }#T_dd40b344_3eb4_11eb_b4d7_0242ac1c0002row0_col4{\n",
              "            background-color:  #f0eaf4;\n",
              "            color:  #000000;\n",
              "        }#T_dd40b344_3eb4_11eb_b4d7_0242ac1c0002row0_col5{\n",
              "            background-color:  #d2d2e7;\n",
              "            color:  #000000;\n",
              "        }#T_dd40b344_3eb4_11eb_b4d7_0242ac1c0002row1_col0{\n",
              "            background-color:  #d1d2e6;\n",
              "            color:  #000000;\n",
              "        }#T_dd40b344_3eb4_11eb_b4d7_0242ac1c0002row1_col2{\n",
              "            background-color:  #8fb4d6;\n",
              "            color:  #000000;\n",
              "        }#T_dd40b344_3eb4_11eb_b4d7_0242ac1c0002row1_col3{\n",
              "            background-color:  #71a8ce;\n",
              "            color:  #000000;\n",
              "        }#T_dd40b344_3eb4_11eb_b4d7_0242ac1c0002row1_col4{\n",
              "            background-color:  #f9f2f8;\n",
              "            color:  #000000;\n",
              "        }#T_dd40b344_3eb4_11eb_b4d7_0242ac1c0002row1_col5{\n",
              "            background-color:  #e3e0ee;\n",
              "            color:  #000000;\n",
              "        }#T_dd40b344_3eb4_11eb_b4d7_0242ac1c0002row2_col3{\n",
              "            background-color:  #328dbf;\n",
              "            color:  #000000;\n",
              "        }#T_dd40b344_3eb4_11eb_b4d7_0242ac1c0002row2_col4{\n",
              "            background-color:  #f1ebf5;\n",
              "            color:  #000000;\n",
              "        }#T_dd40b344_3eb4_11eb_b4d7_0242ac1c0002row2_col5{\n",
              "            background-color:  #78abd0;\n",
              "            color:  #000000;\n",
              "        }#T_dd40b344_3eb4_11eb_b4d7_0242ac1c0002row3_col0{\n",
              "            background-color:  #2383ba;\n",
              "            color:  #000000;\n",
              "        }#T_dd40b344_3eb4_11eb_b4d7_0242ac1c0002row3_col1{\n",
              "            background-color:  #4e9ac6;\n",
              "            color:  #000000;\n",
              "        }#T_dd40b344_3eb4_11eb_b4d7_0242ac1c0002row3_col2{\n",
              "            background-color:  #2484ba;\n",
              "            color:  #000000;\n",
              "        }#T_dd40b344_3eb4_11eb_b4d7_0242ac1c0002row3_col4{\n",
              "            background-color:  #e0dded;\n",
              "            color:  #000000;\n",
              "        }#T_dd40b344_3eb4_11eb_b4d7_0242ac1c0002row3_col5{\n",
              "            background-color:  #acc0dd;\n",
              "            color:  #000000;\n",
              "        }#T_dd40b344_3eb4_11eb_b4d7_0242ac1c0002row4_col0,#T_dd40b344_3eb4_11eb_b4d7_0242ac1c0002row4_col1,#T_dd40b344_3eb4_11eb_b4d7_0242ac1c0002row4_col2,#T_dd40b344_3eb4_11eb_b4d7_0242ac1c0002row4_col3,#T_dd40b344_3eb4_11eb_b4d7_0242ac1c0002row4_col5,#T_dd40b344_3eb4_11eb_b4d7_0242ac1c0002row5_col4{\n",
              "            background-color:  #fff7fb;\n",
              "            color:  #000000;\n",
              "        }#T_dd40b344_3eb4_11eb_b4d7_0242ac1c0002row5_col0{\n",
              "            background-color:  #e4e1ef;\n",
              "            color:  #000000;\n",
              "        }#T_dd40b344_3eb4_11eb_b4d7_0242ac1c0002row5_col1{\n",
              "            background-color:  #ebe6f2;\n",
              "            color:  #000000;\n",
              "        }#T_dd40b344_3eb4_11eb_b4d7_0242ac1c0002row5_col2{\n",
              "            background-color:  #8eb3d5;\n",
              "            color:  #000000;\n",
              "        }#T_dd40b344_3eb4_11eb_b4d7_0242ac1c0002row5_col3{\n",
              "            background-color:  #d8d7e9;\n",
              "            color:  #000000;\n",
              "        }</style><table id=\"T_dd40b344_3eb4_11eb_b4d7_0242ac1c0002\" ><thead>    <tr>        <th class=\"blank level0\" ></th>        <th class=\"col_heading level0 col0\" >price</th>        <th class=\"col_heading level0 col1\" >bedrooms</th>        <th class=\"col_heading level0 col2\" >bathrooms</th>        <th class=\"col_heading level0 col3\" >sqft_living</th>        <th class=\"col_heading level0 col4\" >sqft_lot</th>        <th class=\"col_heading level0 col5\" >floors</th>    </tr></thead><tbody>\n",
              "                <tr>\n",
              "                        <th id=\"T_dd40b344_3eb4_11eb_b4d7_0242ac1c0002level0_row0\" class=\"row_heading level0 row0\" >price</th>\n",
              "                        <td id=\"T_dd40b344_3eb4_11eb_b4d7_0242ac1c0002row0_col0\" class=\"data row0 col0\" >1.0000</td>\n",
              "                        <td id=\"T_dd40b344_3eb4_11eb_b4d7_0242ac1c0002row0_col1\" class=\"data row0 col1\" >0.3150</td>\n",
              "                        <td id=\"T_dd40b344_3eb4_11eb_b4d7_0242ac1c0002row0_col2\" class=\"data row0 col2\" >0.5101</td>\n",
              "                        <td id=\"T_dd40b344_3eb4_11eb_b4d7_0242ac1c0002row0_col3\" class=\"data row0 col3\" >0.7020</td>\n",
              "                        <td id=\"T_dd40b344_3eb4_11eb_b4d7_0242ac1c0002row0_col4\" class=\"data row0 col4\" >0.0897</td>\n",
              "                        <td id=\"T_dd40b344_3eb4_11eb_b4d7_0242ac1c0002row0_col5\" class=\"data row0 col5\" >0.2372</td>\n",
              "            </tr>\n",
              "            <tr>\n",
              "                        <th id=\"T_dd40b344_3eb4_11eb_b4d7_0242ac1c0002level0_row1\" class=\"row_heading level0 row1\" >bedrooms</th>\n",
              "                        <td id=\"T_dd40b344_3eb4_11eb_b4d7_0242ac1c0002row1_col0\" class=\"data row1 col0\" >0.3150</td>\n",
              "                        <td id=\"T_dd40b344_3eb4_11eb_b4d7_0242ac1c0002row1_col1\" class=\"data row1 col1\" >1.0000</td>\n",
              "                        <td id=\"T_dd40b344_3eb4_11eb_b4d7_0242ac1c0002row1_col2\" class=\"data row1 col2\" >0.4792</td>\n",
              "                        <td id=\"T_dd40b344_3eb4_11eb_b4d7_0242ac1c0002row1_col3\" class=\"data row1 col3\" >0.5903</td>\n",
              "                        <td id=\"T_dd40b344_3eb4_11eb_b4d7_0242ac1c0002row1_col4\" class=\"data row1 col4\" >0.0327</td>\n",
              "                        <td id=\"T_dd40b344_3eb4_11eb_b4d7_0242ac1c0002row1_col5\" class=\"data row1 col5\" >0.1601</td>\n",
              "            </tr>\n",
              "            <tr>\n",
              "                        <th id=\"T_dd40b344_3eb4_11eb_b4d7_0242ac1c0002level0_row2\" class=\"row_heading level0 row2\" >bathrooms</th>\n",
              "                        <td id=\"T_dd40b344_3eb4_11eb_b4d7_0242ac1c0002row2_col0\" class=\"data row2 col0\" >0.5101</td>\n",
              "                        <td id=\"T_dd40b344_3eb4_11eb_b4d7_0242ac1c0002row2_col1\" class=\"data row2 col1\" >0.4792</td>\n",
              "                        <td id=\"T_dd40b344_3eb4_11eb_b4d7_0242ac1c0002row2_col2\" class=\"data row2 col2\" >1.0000</td>\n",
              "                        <td id=\"T_dd40b344_3eb4_11eb_b4d7_0242ac1c0002row2_col3\" class=\"data row2 col3\" >0.6979</td>\n",
              "                        <td id=\"T_dd40b344_3eb4_11eb_b4d7_0242ac1c0002row2_col4\" class=\"data row2 col4\" >0.0853</td>\n",
              "                        <td id=\"T_dd40b344_3eb4_11eb_b4d7_0242ac1c0002row2_col5\" class=\"data row2 col5\" >0.4848</td>\n",
              "            </tr>\n",
              "            <tr>\n",
              "                        <th id=\"T_dd40b344_3eb4_11eb_b4d7_0242ac1c0002level0_row3\" class=\"row_heading level0 row3\" >sqft_living</th>\n",
              "                        <td id=\"T_dd40b344_3eb4_11eb_b4d7_0242ac1c0002row3_col0\" class=\"data row3 col0\" >0.7020</td>\n",
              "                        <td id=\"T_dd40b344_3eb4_11eb_b4d7_0242ac1c0002row3_col1\" class=\"data row3 col1\" >0.5903</td>\n",
              "                        <td id=\"T_dd40b344_3eb4_11eb_b4d7_0242ac1c0002row3_col2\" class=\"data row3 col2\" >0.6979</td>\n",
              "                        <td id=\"T_dd40b344_3eb4_11eb_b4d7_0242ac1c0002row3_col3\" class=\"data row3 col3\" >1.0000</td>\n",
              "                        <td id=\"T_dd40b344_3eb4_11eb_b4d7_0242ac1c0002row3_col4\" class=\"data row3 col4\" >0.1728</td>\n",
              "                        <td id=\"T_dd40b344_3eb4_11eb_b4d7_0242ac1c0002row3_col5\" class=\"data row3 col5\" >0.3533</td>\n",
              "            </tr>\n",
              "            <tr>\n",
              "                        <th id=\"T_dd40b344_3eb4_11eb_b4d7_0242ac1c0002level0_row4\" class=\"row_heading level0 row4\" >sqft_lot</th>\n",
              "                        <td id=\"T_dd40b344_3eb4_11eb_b4d7_0242ac1c0002row4_col0\" class=\"data row4 col0\" >0.0897</td>\n",
              "                        <td id=\"T_dd40b344_3eb4_11eb_b4d7_0242ac1c0002row4_col1\" class=\"data row4 col1\" >0.0327</td>\n",
              "                        <td id=\"T_dd40b344_3eb4_11eb_b4d7_0242ac1c0002row4_col2\" class=\"data row4 col2\" >0.0853</td>\n",
              "                        <td id=\"T_dd40b344_3eb4_11eb_b4d7_0242ac1c0002row4_col3\" class=\"data row4 col3\" >0.1728</td>\n",
              "                        <td id=\"T_dd40b344_3eb4_11eb_b4d7_0242ac1c0002row4_col4\" class=\"data row4 col4\" >1.0000</td>\n",
              "                        <td id=\"T_dd40b344_3eb4_11eb_b4d7_0242ac1c0002row4_col5\" class=\"data row4 col5\" >-0.0090</td>\n",
              "            </tr>\n",
              "            <tr>\n",
              "                        <th id=\"T_dd40b344_3eb4_11eb_b4d7_0242ac1c0002level0_row5\" class=\"row_heading level0 row5\" >floors</th>\n",
              "                        <td id=\"T_dd40b344_3eb4_11eb_b4d7_0242ac1c0002row5_col0\" class=\"data row5 col0\" >0.2372</td>\n",
              "                        <td id=\"T_dd40b344_3eb4_11eb_b4d7_0242ac1c0002row5_col1\" class=\"data row5 col1\" >0.1601</td>\n",
              "                        <td id=\"T_dd40b344_3eb4_11eb_b4d7_0242ac1c0002row5_col2\" class=\"data row5 col2\" >0.4848</td>\n",
              "                        <td id=\"T_dd40b344_3eb4_11eb_b4d7_0242ac1c0002row5_col3\" class=\"data row5 col3\" >0.3533</td>\n",
              "                        <td id=\"T_dd40b344_3eb4_11eb_b4d7_0242ac1c0002row5_col4\" class=\"data row5 col4\" >-0.0090</td>\n",
              "                        <td id=\"T_dd40b344_3eb4_11eb_b4d7_0242ac1c0002row5_col5\" class=\"data row5 col5\" >1.0000</td>\n",
              "            </tr>\n",
              "    </tbody></table>"
            ],
            "text/plain": [
              "<pandas.io.formats.style.Styler at 0x7fa145386e80>"
            ]
          },
          "metadata": {
            "tags": []
          },
          "execution_count": 68
        }
      ]
    },
    {
      "cell_type": "code",
      "metadata": {
        "colab": {
          "base_uri": "https://localhost:8080/"
        },
        "id": "vhEFio1rp4du",
        "outputId": "15f93a6b-f4ca-4131-811c-cdaea1a6b98d"
      },
      "source": [
        "#Pertama, buat variabel x dan y.\r\n",
        "x = df.drop(columns='price') #semua column termasuk variabel x kecuali column price\r\n",
        "y = df['price']\r\n",
        "\r\n",
        "#Kedua, split data menjadi training and testing dengan perbandingan 9:1.\r\n",
        "x_train, x_test, y_train, y_test = train_test_split(x, y, test_size=0.1, random_state=4)\r\n",
        "\r\n",
        "#Ketiga, buat variabel linear regresi.\r\n",
        "lin_reg = LinearRegression()\r\n",
        "\r\n",
        "#Keempat, train model menggunakan training data yang sudah split.\r\n",
        "lin_reg.fit(x_train, y_train)\r\n",
        "\r\n",
        "#Kelima, tampilkan nilai slope(m) dan intercept (b).\r\n",
        "print(lin_reg.coef_)\r\n",
        "print(lin_reg.intercept_)\r\n",
        "\r\n",
        "#Keenam, tentukan nilai akurasi dari model dengan data test\r\n",
        "lin_reg.score(x_test, y_test)"
      ],
      "execution_count": null,
      "outputs": [
        {
          "output_type": "stream",
          "text": [
            "[-6.89736576e+04  3.99937511e+04  3.07178506e+02 -3.69336558e-01\n",
            " -3.03949589e+04]\n",
            "113343.42443798005\n"
          ],
          "name": "stdout"
        },
        {
          "output_type": "execute_result",
          "data": {
            "text/plain": [
              "0.5147896907388336"
            ]
          },
          "metadata": {
            "tags": []
          },
          "execution_count": 76
        }
      ]
    },
    {
      "cell_type": "markdown",
      "metadata": {
        "id": "MAvdPLYss59M"
      },
      "source": [
        "Tahapan yang dilakukan untuk membuat model Machine Learning nya adalah :\r\n",
        "- Pertama yang harus dilakukan adalah menentukan variabel dependent (y) dan variabel independent (x).\r\n",
        "- Kedua, memilah-milah data menjadi data untuk training dan data untuk testing.\r\n",
        "- Ketiga, buat variabel regresi linear\r\n",
        "- Keempat, train model dengan menggunakan training data yang sudah dipilah.\r\n",
        "- Kelima, tentukan nilai gradient/slope (m) dan intercept (b).\r\n",
        "- Keenam, tentukan nilai akurasi dari model dengan menggunakan testing data.\r\n",
        "\r\n",
        "\r\n",
        "Pada model diatas, didapat nilai akurasi sebesar 51,47%."
      ]
    },
    {
      "cell_type": "markdown",
      "metadata": {
        "id": "9LFf8tIgtpQp"
      },
      "source": [
        "Untuk menerapkan model, maka dapat dilakukan dengan melakukan prediksi harga sesuai kriteria masukan.\r\n",
        "\r\n",
        "Misalnya, dibutuhkan rumah dengan 3 kamar tidur, 4 kamar mandi, dengan luas rumah 3000sqft, luas tanah 5000sqft, dan memiliki 2 lantai, dapat menggunakan perintah berikut :"
      ]
    },
    {
      "cell_type": "code",
      "metadata": {
        "colab": {
          "base_uri": "https://localhost:8080/"
        },
        "id": "fQCBTTh8uDQe",
        "outputId": "fa5430eb-f3d0-48a9-fba3-3b5f742cbbd1"
      },
      "source": [
        "lin_reg.predict([[3,4,3000,5000,2]])"
      ],
      "execution_count": null,
      "outputs": [
        {
          "output_type": "execute_result",
          "data": {
            "text/plain": [
              "array([925296.37469079])"
            ]
          },
          "metadata": {
            "tags": []
          },
          "execution_count": 79
        }
      ]
    },
    {
      "cell_type": "markdown",
      "metadata": {
        "id": "8IS4F8AOuD81"
      },
      "source": [
        "Maka, didapat harga dari rumah tersebut diperkirakan sebesar USD 925.296,37"
      ]
    }
  ]
}